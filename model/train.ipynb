{
 "cells": [
  {
   "cell_type": "markdown",
   "metadata": {},
   "source": [
    "For train model we used simple baseline:\n",
    "https://www.kaggle.com/code/its7171/dfl-benchmark-training"
   ]
  },
  {
   "cell_type": "code",
   "execution_count": 1,
   "metadata": {},
   "outputs": [],
   "source": [
    "import cv2\n",
    "import os"
   ]
  },
  {
   "cell_type": "code",
   "execution_count": null,
   "metadata": {},
   "outputs": [],
   "source": [
    "DATASET_PATH = \"../dataset\"\n",
    "TMP_DIR = \"../tmp_video/\""
   ]
  },
  {
   "cell_type": "code",
   "execution_count": null,
   "metadata": {},
   "outputs": [],
   "source": [
    "debug = True\n",
    "if debug:\n",
    "    epochs = 3\n",
    "else:\n",
    "    epochs = 100\n",
    "\n",
    "err_tol = {\n",
    "    'challenge': [ 0.30, 0.40, 0.50, 0.60, 0.70 ],\n",
    "    'play': [ 0.15, 0.20, 0.25, 0.30, 0.35 ],\n",
    "    'throwin': [ 0.15, 0.20, 0.25, 0.30, 0.35 ]\n",
    "}\n",
    "video_id_split = {\n",
    "    'val':[\n",
    "         '3c993bd2_0',\n",
    "         '3c993bd2_1',\n",
    "    ],\n",
    "    'train':[\n",
    "         '1606b0e6_0',\n",
    "         '1606b0e6_1',\n",
    "         '35bd9041_0',\n",
    "         '35bd9041_1',\n",
    "         '407c5a9e_1',\n",
    "         '4ffd5986_0',\n",
    "         '9a97dae4_1',\n",
    "         'cfbe2e94_0',\n",
    "         'cfbe2e94_1',\n",
    "         'ecf251d4_0',\n",
    "    ]\n",
    "}\n",
    "event_names = ['challenge', 'throwin', 'play']"
   ]
  },
  {
   "cell_type": "code",
   "execution_count": null,
   "metadata": {},
   "outputs": [],
   "source": [
    "df = pd.read_csv(f\"{DATASET_PATH}/input/dfl-bundesliga-data-shootout/train.csv\")\n",
    "additional_events = []\n",
    "for arr in df.sort_values(['video_id','time','event','event_attributes']).values:\n",
    "    if arr[2] in err_tol:\n",
    "        tol = err_tol[arr[2]][0]/2\n",
    "        additional_events.append([arr[0], arr[1]-tol, 'start_'+arr[2], arr[3]])\n",
    "        additional_events.append([arr[0], arr[1]+tol, 'end_'+arr[2], arr[3]])\n",
    "df = pd.concat([df, pd.DataFrame(additional_events, columns=df.columns)])\n",
    "df = df[~df['event'].isin(event_names)]\n",
    "df = df.sort_values(['video_id', 'time'])\n",
    "df"
   ]
  },
  {
   "cell_type": "code",
   "execution_count": null,
   "metadata": {},
   "outputs": [],
   "source": [
    "def extract_training_images(args):\n",
    "        video_id, split = args\n",
    "        video_path = f\"{DATASET_PATH}/input/dfl-bundesliga-data-shootout/train/{video_id}.mp4\"\n",
    "        cap = cv2.VideoCapture(video_path)\n",
    "        fps = cap.get(cv2.CAP_PROP_FPS)\n",
    "        time_interval = 1/fps\n",
    "\n",
    "        df_video = df[df.video_id == video_id]\n",
    "        if debug:\n",
    "            df_video = df_video.head(10)\n",
    "        \n",
    "        print(split, video_id, df_video.shape)\n",
    "\n",
    "        arr = df_video[['time','event']].values\n",
    "        for idx in range(len(arr)-1):\n",
    "            crr_time = arr[idx,0]\n",
    "            nxt_time = arr[idx+1,0]\n",
    "            crr_event = arr[idx,1]\n",
    "\n",
    "            crr_event = crr_event\n",
    "            if crr_event == 'start':\n",
    "                crr_status = 'background'\n",
    "            elif crr_event == 'end':\n",
    "                continue\n",
    "            else:\n",
    "                start_or_end, crr_status = crr_event.split('_', 1)\n",
    "                if start_or_end == 'end':\n",
    "                    crr_status = 'background'\n",
    "\n",
    "            result_dir = f\"{TMP_DIR}/split_images/{split}/{crr_status}\"\n",
    "            if not os.path.exists(result_dir):\n",
    "                os.makedirs(result_dir, exist_ok=True)\n",
    "            \n",
    "            this_time = crr_time\n",
    "            while this_time < nxt_time:\n",
    "                frame_num = int(this_time*fps)\n",
    "\n",
    "                cap.set(cv2.CAP_PROP_POS_FRAMES, frame_num)\n",
    "                ret, frame = cap.read()\n",
    "                out_file = f'{result_dir}/{video_id}_{frame_num:06}.jpg'\n",
    "                cv2.imwrite(out_file, frame)\n",
    "\n",
    "                if crr_status == 'background':\n",
    "                    this_time += time_interval*10\n",
    "                else:\n",
    "                    this_time += time_interval"
   ]
  },
  {
   "cell_type": "code",
   "execution_count": null,
   "metadata": {},
   "outputs": [],
   "source": [
    "!rm -rf ../work/split_images/"
   ]
  },
  {
   "cell_type": "code",
   "execution_count": null,
   "metadata": {},
   "outputs": [],
   "source": [
    "for split in video_id_split:\n",
    "    video_ids = video_id_split[split]\n",
    "    for video_id in video_ids:            \n",
    "        extract_training_images([video_id, split])"
   ]
  },
  {
   "cell_type": "code",
   "execution_count": null,
   "metadata": {},
   "outputs": [],
   "source": [
    "if not os.path.exists(f\"{TMP_DIR}/train_model\"):\n",
    "    os.makedirs(f\"{TMP_DIR}/train_model\", exist_ok=True)"
   ]
  },
  {
   "cell_type": "code",
   "execution_count": null,
   "metadata": {},
   "outputs": [],
   "source": [
    "!python ./train.py $TMP_DIR/split_images \\\n",
    "    -b 10 \\\n",
    "    --amp \\\n",
    "    --epochs $epochs \\\n",
    "    --pretrained \\\n",
    "    --num-classes 4 \\\n",
    "    --model tf_efficientnet_b5_ap \\\n",
    "    --output $TMP_DIR/train_model"
   ]
  }
 ],
 "metadata": {
  "kernelspec": {
   "display_name": "Python 3.10.6 ('venv': venv)",
   "language": "python",
   "name": "python3"
  },
  "language_info": {
   "codemirror_mode": {
    "name": "ipython",
    "version": 3
   },
   "file_extension": ".py",
   "mimetype": "text/x-python",
   "name": "python",
   "nbconvert_exporter": "python",
   "pygments_lexer": "ipython3",
   "version": "3.10.6"
  },
  "orig_nbformat": 4,
  "vscode": {
   "interpreter": {
    "hash": "ea95420d2dd42ddd08b854c4f9d847ede66901136378e012097a60ae33159c82"
   }
  }
 },
 "nbformat": 4,
 "nbformat_minor": 2
}
