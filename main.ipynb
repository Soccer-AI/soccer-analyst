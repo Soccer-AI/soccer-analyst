{
 "cells": [
  {
   "cell_type": "code",
   "execution_count": 23,
   "metadata": {},
   "outputs": [],
   "source": [
    "import os\n",
    "\n",
    "INPUT_VIDEO = \"dataset/0a2d9b_0.mp4\"\n",
    "CONFIG_FILE = \"configs/default.yaml\"\n",
    "TEMP_DIR = \"tmp_video\"\n",
    "OUTPUT_DIR = \"clip_video\"\n",
    "\n",
    "input_video_fn = os.path.basename(INPUT_VIDEO)\n",
    "input_video_name = input_video_fn.split('.')[0]\n",
    "\n",
    "if not os.path.exists(TEMP_DIR):\n",
    "    os.makedirs(TEMP_DIR)\n",
    "if not os.path.exists(OUTPUT_DIR):\n",
    "    os.makedirs(OUTPUT_DIR)"
   ]
  },
  {
   "cell_type": "code",
   "execution_count": 24,
   "metadata": {},
   "outputs": [],
   "source": [
    "# == Download pretrained X model weights ==\n",
    "# !gdown --id \"1P4mY0Yyd3PPTybgZkjMYhFri88nTmJX5\"\n",
    "# !gdown --id \"11Zb0NN_Uu7JwUd9e6Nk8o2_EUfxWqsun\"\n",
    "# !gdown --id \"1uSmhXzyV1Zvb4TJJCzpsZOIcw7CCJLxj\""
   ]
  },
  {
   "cell_type": "code",
   "execution_count": 25,
   "metadata": {},
   "outputs": [],
   "source": [
    "import sys\n",
    "import yaml\n",
    "import time\n",
    "import os.path as osp\n",
    "from dotmap import DotMap\n",
    "\n",
    "import cv2\n",
    "import numpy as np\n",
    "import torch\n",
    "import torchvision\n",
    "\n",
    "from loguru import logger"
   ]
  },
  {
   "cell_type": "code",
   "execution_count": 26,
   "metadata": {},
   "outputs": [],
   "source": [
    "# Read config file\n",
    "config = None\n",
    "with open(CONFIG_FILE, \"r\") as stream:\n",
    "    config = yaml.safe_load(stream)\n",
    "    config = DotMap(config)"
   ]
  },
  {
   "cell_type": "code",
   "execution_count": 27,
   "metadata": {},
   "outputs": [],
   "source": [
    "# Create save folder\n",
    "current_time = time.localtime()\n",
    "timestamp = time.strftime(\"%Y_%m_%d_%H_%M_%S\", current_time)\n",
    "save_folder = osp.join(TEMP_DIR, timestamp)\n",
    "save_path = osp.join(save_folder, input_video_fn)\n",
    "\n",
    "if not os.path.exists(save_folder):\n",
    "    os.makedirs(save_folder)"
   ]
  },
  {
   "cell_type": "code",
   "execution_count": 28,
   "metadata": {},
   "outputs": [],
   "source": [
    "# Read input video\n",
    "cap = cv2.VideoCapture(INPUT_VIDEO)\n",
    "\n",
    "# Get main video characteristic\n",
    "width = cap.get(cv2.CAP_PROP_FRAME_WIDTH)  # float\n",
    "height = cap.get(cv2.CAP_PROP_FRAME_HEIGHT)  # float\n",
    "fps = cap.get(cv2.CAP_PROP_FPS) # float\n",
    "\n",
    "vid_writer = cv2.VideoWriter(\n",
    "    save_path, cv2.VideoWriter_fourcc(*\"mp4v\"), fps, (int(width), int(height))\n",
    ")"
   ]
  },
  {
   "cell_type": "code",
   "execution_count": 29,
   "metadata": {},
   "outputs": [],
   "source": [
    "PATH_TO_CHECKPOINT = \"detection/models/pretrained/bytetrack_m_mot17.pth.tar\""
   ]
  },
  {
   "cell_type": "code",
   "execution_count": 30,
   "metadata": {},
   "outputs": [],
   "source": [
    "from detection.models.yolo.yolox_m_mix_det import Exp\n",
    "from detection import ObjectDetection\n",
    "\n",
    "exp = Exp()\n",
    "\n",
    "if config.conf is not None:\n",
    "    exp.test_conf = config.conf\n",
    "if config.nms is not None:\n",
    "    exp.nmsthre = config.nms\n",
    "if config.tsize is not None:\n",
    "    exp.test_size = (config.tsize, config.tsize)\n",
    "\n",
    "predictor = ObjectDetection(exp, PATH_TO_CHECKPOINT, config.device)"
   ]
  },
  {
   "cell_type": "markdown",
   "metadata": {},
   "source": [
    "#### Tracking model"
   ]
  },
  {
   "cell_type": "code",
   "execution_count": 31,
   "metadata": {},
   "outputs": [],
   "source": [
    "from tracking import ObjectTracking\n",
    "from tracking.methods.bytetrack import BYTETracker\n",
    "\n",
    "tracker = ObjectTracking(BYTETracker(config, frame_rate=fps), config)"
   ]
  },
  {
   "cell_type": "markdown",
   "metadata": {},
   "source": [
    "#### Video processing"
   ]
  },
  {
   "cell_type": "code",
   "execution_count": 32,
   "metadata": {},
   "outputs": [],
   "source": [
    "from utils.timer import Timer\n",
    "from visualize import plot_tracking"
   ]
  },
  {
   "cell_type": "code",
   "execution_count": 33,
   "metadata": {},
   "outputs": [
    {
     "name": "stderr",
     "output_type": "stream",
     "text": [
      "2022-09-10 02:09:03.249 | INFO     | __main__:<module>:6 - Processing frame 0 (100000.00 fps)\n",
      "2022-09-10 02:09:06.576 | INFO     | __main__:<module>:6 - Processing frame 20 (13.53 fps)\n",
      "2022-09-10 02:09:09.736 | INFO     | __main__:<module>:6 - Processing frame 40 (13.62 fps)\n",
      "2022-09-10 02:09:12.885 | INFO     | __main__:<module>:6 - Processing frame 60 (13.65 fps)\n",
      "2022-09-10 02:09:16.013 | INFO     | __main__:<module>:6 - Processing frame 80 (13.65 fps)\n",
      "2022-09-10 02:09:19.147 | INFO     | __main__:<module>:6 - Processing frame 100 (13.66 fps)\n",
      "2022-09-10 02:09:22.301 | INFO     | __main__:<module>:6 - Processing frame 120 (13.65 fps)\n",
      "2022-09-10 02:09:25.430 | INFO     | __main__:<module>:6 - Processing frame 140 (13.66 fps)\n",
      "2022-09-10 02:09:28.670 | INFO     | __main__:<module>:6 - Processing frame 160 (13.64 fps)\n",
      "2022-09-10 02:09:32.008 | INFO     | __main__:<module>:6 - Processing frame 180 (13.65 fps)\n",
      "2022-09-10 02:09:35.499 | INFO     | __main__:<module>:6 - Processing frame 200 (13.61 fps)\n",
      "2022-09-10 02:09:38.800 | INFO     | __main__:<module>:6 - Processing frame 220 (13.58 fps)\n",
      "2022-09-10 02:09:42.026 | INFO     | __main__:<module>:6 - Processing frame 240 (13.57 fps)\n",
      "2022-09-10 02:09:45.240 | INFO     | __main__:<module>:6 - Processing frame 260 (13.54 fps)\n",
      "2022-09-10 02:09:48.389 | INFO     | __main__:<module>:6 - Processing frame 280 (13.55 fps)\n",
      "2022-09-10 02:09:51.605 | INFO     | __main__:<module>:6 - Processing frame 300 (13.54 fps)\n",
      "2022-09-10 02:09:54.752 | INFO     | __main__:<module>:6 - Processing frame 320 (13.54 fps)\n",
      "2022-09-10 02:09:57.976 | INFO     | __main__:<module>:6 - Processing frame 340 (13.55 fps)\n",
      "2022-09-10 02:10:01.608 | INFO     | __main__:<module>:6 - Processing frame 360 (13.53 fps)\n",
      "2022-09-10 02:10:04.988 | INFO     | __main__:<module>:6 - Processing frame 380 (13.51 fps)\n",
      "2022-09-10 02:10:08.246 | INFO     | __main__:<module>:6 - Processing frame 400 (13.50 fps)\n",
      "2022-09-10 02:10:11.465 | INFO     | __main__:<module>:6 - Processing frame 420 (13.51 fps)\n",
      "2022-09-10 02:10:14.685 | INFO     | __main__:<module>:6 - Processing frame 440 (13.51 fps)\n",
      "2022-09-10 02:10:17.984 | INFO     | __main__:<module>:6 - Processing frame 460 (13.51 fps)\n",
      "2022-09-10 02:10:21.427 | INFO     | __main__:<module>:6 - Processing frame 480 (13.49 fps)\n",
      "2022-09-10 02:10:24.649 | INFO     | __main__:<module>:6 - Processing frame 500 (13.50 fps)\n",
      "2022-09-10 02:10:27.908 | INFO     | __main__:<module>:6 - Processing frame 520 (13.50 fps)\n",
      "2022-09-10 02:10:31.190 | INFO     | __main__:<module>:6 - Processing frame 540 (13.50 fps)\n",
      "2022-09-10 02:10:34.522 | INFO     | __main__:<module>:6 - Processing frame 560 (13.50 fps)\n",
      "2022-09-10 02:10:37.835 | INFO     | __main__:<module>:6 - Processing frame 580 (13.49 fps)\n",
      "2022-09-10 02:10:41.218 | INFO     | __main__:<module>:6 - Processing frame 600 (13.48 fps)\n",
      "2022-09-10 02:10:44.441 | INFO     | __main__:<module>:6 - Processing frame 620 (13.48 fps)\n",
      "2022-09-10 02:10:47.705 | INFO     | __main__:<module>:6 - Processing frame 640 (13.47 fps)\n",
      "2022-09-10 02:10:50.972 | INFO     | __main__:<module>:6 - Processing frame 660 (13.47 fps)\n",
      "2022-09-10 02:10:54.162 | INFO     | __main__:<module>:6 - Processing frame 680 (13.47 fps)\n",
      "2022-09-10 02:10:57.379 | INFO     | __main__:<module>:6 - Processing frame 700 (13.47 fps)\n",
      "2022-09-10 02:11:00.621 | INFO     | __main__:<module>:6 - Processing frame 720 (13.47 fps)\n",
      "2022-09-10 02:11:03.895 | INFO     | __main__:<module>:6 - Processing frame 740 (13.48 fps)\n",
      "2022-09-10 02:11:05.576 | INFO     | __main__:<module>:27 - save results to clip_video/2022_09_10_02_08_55.txt\n"
     ]
    }
   ],
   "source": [
    "timer = Timer()\n",
    "frame_id = 0\n",
    "\n",
    "while True:\n",
    "    if frame_id % 20 == 0:\n",
    "        logger.info('Processing frame {} ({:.2f} fps)'.format(frame_id, 1. / max(1e-5, timer.average_time)))\n",
    "    ret_val, frame = cap.read()\n",
    "    if ret_val:\n",
    "        # Object detection part\n",
    "        outputs, img_info = predictor.inference(frame, timer)\n",
    "        if outputs[0] is not None:\n",
    "            # Tracking part\n",
    "            online_tlwhs, online_ids, online_scores = tracker.update(frame_id, outputs[0], [img_info['height'], img_info['width']], exp.test_size)\n",
    "            timer.toc()\n",
    "            # Predict part \n",
    "            \n",
    "            # Visualization part\n",
    "            online_im = plot_tracking(img_info['raw_img'], online_tlwhs, online_ids, frame_id=frame_id + 1, fps=1. / timer.average_time)\n",
    "        else:\n",
    "            timer.toc()\n",
    "            online_im = img_info['raw_img']\n",
    "        if config.save_result:\n",
    "            vid_writer.write(online_im)\n",
    "    else:\n",
    "        break\n",
    "    frame_id += 1\n",
    "\n",
    "if config.save_result:\n",
    "    res_file = osp.join(OUTPUT_DIR, f\"{timestamp}.txt\")\n",
    "    with open(res_file, 'w') as f:\n",
    "        f.writelines(tracker.results)\n",
    "    logger.info(f\"save results to {res_file}\")"
   ]
  },
  {
   "cell_type": "code",
   "execution_count": 34,
   "metadata": {},
   "outputs": [],
   "source": [
    "vid_writer.release()"
   ]
  },
  {
   "cell_type": "code",
   "execution_count": null,
   "metadata": {},
   "outputs": [],
   "source": []
  }
 ],
 "metadata": {
  "kernelspec": {
   "display_name": "Python 3.10.6 ('venv': venv)",
   "language": "python",
   "name": "python3"
  },
  "language_info": {
   "codemirror_mode": {
    "name": "ipython",
    "version": 3
   },
   "file_extension": ".py",
   "mimetype": "text/x-python",
   "name": "python",
   "nbconvert_exporter": "python",
   "pygments_lexer": "ipython3",
   "version": "3.10.6"
  },
  "orig_nbformat": 4,
  "vscode": {
   "interpreter": {
    "hash": "ea95420d2dd42ddd08b854c4f9d847ede66901136378e012097a60ae33159c82"
   }
  }
 },
 "nbformat": 4,
 "nbformat_minor": 2
}
